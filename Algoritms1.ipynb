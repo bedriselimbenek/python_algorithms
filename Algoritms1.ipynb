{
 "cells": [
  {
   "cell_type": "markdown",
   "id": "3ed81810",
   "metadata": {},
   "source": [
    "# Count Function \n",
    "\n",
    "# Write a program to find how many times substring \"Mr.Bean\" appears in the given string.\n",
    "\n",
    "# str_x = \"Mr.Bean is good actor and Mr.Bean is very funny.\""
   ]
  },
  {
   "cell_type": "code",
   "execution_count": 3,
   "id": "810b2612",
   "metadata": {},
   "outputs": [
    {
     "name": "stdout",
     "output_type": "stream",
     "text": [
      "Mr.Bean appears 2 times in given string.\n"
     ]
    }
   ],
   "source": [
    "str_x = \"Mr.Bean is good actor and Mr.Bean is very funny.\"\n",
    "\n",
    "print(f\"Mr.Bean appeared {str_x.count('Mr.Bean')} times in given string.\")"
   ]
  },
  {
   "cell_type": "markdown",
   "id": "dd0a72f2",
   "metadata": {},
   "source": [
    "# input Function\n",
    "\n",
    "# Write a Pyhton program to display your details like name, age, job in three different lines.\n",
    "\n",
    "Example:\n",
    "\n",
    "name: Selim\n",
    "age: 30\n",
    "job: data scientist"
   ]
  },
  {
   "cell_type": "code",
   "execution_count": 11,
   "id": "b8734a27",
   "metadata": {},
   "outputs": [
    {
     "name": "stdout",
     "output_type": "stream",
     "text": [
      "Please enter your name, age and job seperating them with comma: Selim, 37, data scientist\n",
      "name: Selim\n",
      "age:  37\n",
      "job:  data scientist\n",
      "\n",
      "name: Selim\n",
      "age:  37\n",
      "job:  data scientist\n"
     ]
    }
   ],
   "source": [
    "per = input(\"Please enter your name, age and job seperating them with comma: \").split(\",\")\n",
    "\n",
    "print(\"name:\", per[0])\n",
    "print(\"age:\", per[1])\n",
    "print(\"job:\", per[2])\n",
    "print()\n",
    "print(f\"name: {per[0]}\\nage: {per[1]}\\njob: {per[2]}\")"
   ]
  },
  {
   "cell_type": "markdown",
   "id": "f85f0426",
   "metadata": {},
   "source": [
    "# Create an algorithm that asks the employee for weekly working hours and hourly wage information and ultimately calculates the employee's weekly salary\n",
    "\n",
    "Note >> Work over 40 hours per week is paid 1.5 times the wage"
   ]
  },
  {
   "cell_type": "code",
   "execution_count": 30,
   "id": "bbc74137",
   "metadata": {},
   "outputs": [
    {
     "name": "stdout",
     "output_type": "stream",
     "text": [
      "enter your weekly working hours: 60\n",
      "enter your hourly wage: 3\n",
      "Your weekly wage is 210.0\n"
     ]
    }
   ],
   "source": [
    "work_hours = int(input(\"enter your weekly working hours: \"))\n",
    "hour_wage = int(input(\"enter your hourly wage: \"))\n",
    "\n",
    "\n",
    "if work_hours > 40:\n",
    "    weekly_salary = (work_hours - 40) * (hour_wage * 1.5) + 40 * hour_wage\n",
    "else : \n",
    "    weekly_salary = work_hours * hour_wage\n",
    "\n",
    "print(f\"Your weekly wage is {weekly_salary}\")\n",
    "    \n",
    "    "
   ]
  },
  {
   "cell_type": "code",
   "execution_count": null,
   "id": "d996115f",
   "metadata": {},
   "outputs": [],
   "source": []
  },
  {
   "cell_type": "code",
   "execution_count": null,
   "id": "5de7cc92",
   "metadata": {},
   "outputs": [],
   "source": []
  }
 ],
 "metadata": {
  "kernelspec": {
   "display_name": "Python 3 (ipykernel)",
   "language": "python",
   "name": "python3"
  },
  "language_info": {
   "codemirror_mode": {
    "name": "ipython",
    "version": 3
   },
   "file_extension": ".py",
   "mimetype": "text/x-python",
   "name": "python",
   "nbconvert_exporter": "python",
   "pygments_lexer": "ipython3",
   "version": "3.9.12"
  }
 },
 "nbformat": 4,
 "nbformat_minor": 5
}
